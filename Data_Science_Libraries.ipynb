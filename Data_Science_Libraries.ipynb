{
  "nbformat": 4,
  "nbformat_minor": 0,
  "metadata": {
    "colab": {
      "provenance": [],
      "authorship_tag": "ABX9TyN6p3p3Mwt6MaiYtBRnbVO8",
      "include_colab_link": true
    },
    "kernelspec": {
      "name": "python3",
      "display_name": "Python 3"
    },
    "language_info": {
      "name": "python"
    }
  },
  "cells": [
    {
      "cell_type": "markdown",
      "metadata": {
        "id": "view-in-github",
        "colab_type": "text"
      },
      "source": [
        "<a href=\"https://colab.research.google.com/github/PICOTERMS/Algolab/blob/main/Data_Science_Libraries.ipynb\" target=\"_parent\"><img src=\"https://colab.research.google.com/assets/colab-badge.svg\" alt=\"Open In Colab\"/></a>"
      ]
    },
    {
      "cell_type": "markdown",
      "source": [
        "# 1. Data Manipulation and Analysis\n"
      ],
      "metadata": {
        "id": "nmhuwiB_dIw2"
      }
    },
    {
      "cell_type": "code",
      "source": [
        "pip install numpy  pandas scipy"
      ],
      "metadata": {
        "collapsed": true,
        "id": "kraCxJAmdNjW"
      },
      "execution_count": null,
      "outputs": []
    },
    {
      "cell_type": "markdown",
      "source": [
        "# 2. Data Visualization\n"
      ],
      "metadata": {
        "id": "YGb_U-Zvdcys"
      }
    },
    {
      "cell_type": "code",
      "source": [
        "!pip install matplotlib\n",
        "!pip install seaborn\n",
        "!pip install plotly\n",
        "!pip install dash\n",
        "!pip install folium\n"
      ],
      "metadata": {
        "collapsed": true,
        "id": "8fVGa2ekdh-x"
      },
      "execution_count": null,
      "outputs": []
    },
    {
      "cell_type": "markdown",
      "source": [
        "# 3. Machine Learning and Deep Learning\n"
      ],
      "metadata": {
        "id": "xAUY5W5WeLeo"
      }
    },
    {
      "cell_type": "code",
      "source": [
        "!pip install scikit-learn\n",
        "!pip install tensorflow\n",
        "!pip install keras\n",
        "!pip install torch\n",
        "!pip install lightgbm\n",
        "!pip install xgboost\n",
        "!pip install catboost\n",
        "!pip install mlxtend\n",
        "\n"
      ],
      "metadata": {
        "collapsed": true,
        "id": "5gGGD1_KeRfv"
      },
      "execution_count": null,
      "outputs": []
    },
    {
      "cell_type": "markdown",
      "source": [
        "# 4. Natural Language Processing (NLP)\n"
      ],
      "metadata": {
        "id": "NQa6lqlEe16r"
      }
    },
    {
      "cell_type": "code",
      "source": [
        "!pip install nltk\n",
        "!pip install spacy\n",
        "!pip install gensim\n",
        "!pip install transformers\n",
        "!pip install tensorflow-text\n",
        "!pip install textblob\n"
      ],
      "metadata": {
        "collapsed": true,
        "id": "AVFjSQ1oe8FL"
      },
      "execution_count": null,
      "outputs": []
    },
    {
      "cell_type": "markdown",
      "source": [
        "# 5. Big Data and Database Handling\n"
      ],
      "metadata": {
        "id": "DtK9s-zAfLH4"
      }
    },
    {
      "cell_type": "code",
      "source": [
        "!pip install pymongo\n",
        "!pip install requests\n",
        "!pip install beautifulsoup4\n",
        "!pip install scrapy\n"
      ],
      "metadata": {
        "collapsed": true,
        "id": "tTwrNm6NfQQD"
      },
      "execution_count": null,
      "outputs": []
    },
    {
      "cell_type": "markdown",
      "source": [
        "# 6. Data Processing and Utilities\n"
      ],
      "metadata": {
        "id": "XWArRqGhfeoY"
      }
    },
    {
      "cell_type": "code",
      "source": [
        "!pip install joblib\n",
        "!pip install openpyxl\n",
        "!pip install h5py\n",
        "!pip install networkx\n",
        "!pip install imbalanced-learn\n",
        "!pip install shap\n"
      ],
      "metadata": {
        "collapsed": true,
        "id": "bL_xy0zIflFP"
      },
      "execution_count": null,
      "outputs": []
    },
    {
      "cell_type": "markdown",
      "source": [
        "# 7. Interactive Notebooks and Widgets\n"
      ],
      "metadata": {
        "id": "TFUR5Lhrf1dp"
      }
    },
    {
      "cell_type": "code",
      "source": [
        "!pip install jupyterlab\n",
        "!pip install ipywidgets\n"
      ],
      "metadata": {
        "id": "hp5K_FrBf4Y3"
      },
      "execution_count": null,
      "outputs": []
    },
    {
      "cell_type": "code",
      "source": [
        "!pip install ipykernel==5.5.6\n",
        "!pip install jupyter-client==7.0.6  # Or a compatible version under 8\n"
      ],
      "metadata": {
        "id": "T4SO3TB6gblB"
      },
      "execution_count": null,
      "outputs": []
    },
    {
      "cell_type": "code",
      "source": [
        "!pip install jupyterlab --upgrade --force-reinstall\n",
        "!pip install ipywidgets --upgrade --force-reinstall\n"
      ],
      "metadata": {
        "collapsed": true,
        "id": "-w5KRsIJgsCv"
      },
      "execution_count": null,
      "outputs": []
    },
    {
      "cell_type": "markdown",
      "source": [],
      "metadata": {
        "id": "r6W_mxNPdaR4"
      }
    }
  ]
}